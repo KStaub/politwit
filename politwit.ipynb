{
 "cells": [
  {
   "cell_type": "markdown",
   "metadata": {},
   "source": [
    "# PoliTwit\n",
    "\n",
    "## Examining political speech on social media\n",
    "\n",
    "### Tyler Nevell and Kyle Staub\n",
    "\n",
    "### GitHub link: https://github.com/KStaub/politwit\n",
    "\n",
    "#### Dataset\n",
    "\n",
    "* Origin: \n",
    "    * Crowdflower Data for Everyone dataset: https://www.crowdflower.com/data-for-everyone/\n",
    "    * https://www.kaggle.com/crowdflower/political-social-media-posts/data\n",
    "* Meta-data:\n",
    "    * _unit_id: a unique id for the message\n",
    "    * _golden: always FALSE; (presumably whether the message was in Crowdflower's gold standard)\n",
    "    * _unit_state: always \"finalized\"\n",
    "    * _trusted_judgments: the number of trusted human judgments that were entered for this message; an integer between 1 and 3\n",
    "    * _last_judgment_at: when the final judgment was collected\n",
    "    * audience: one of national or constituency\n",
    "    * audience:confidence: a measure of confidence in the audience judgment; a float between 0.5 and 1\n",
    "    * bias: one of neutral or partisan\n",
    "    * bias:confidence: a measure of confidence in the bias judgment; a float between 0.5 and 1\n",
    "    * message: the aim of the message. one of: \n",
    "        * attack: the message attacks another politician \n",
    "        * constituency: the message discusses the politician's constituency \n",
    "        * information: an informational message about news in government or the wider U.S. \n",
    "        * media: a message about interaction with the media \n",
    "        * mobilization: a message intended to mobilize supporters \n",
    "        * other: a catch-all category for messages that don't fit into the other \n",
    "        * personal: a personal message, usually expressing sympathy, support or condolences, or other personal opinions \n",
    "        * policy: a message about political policy \n",
    "        * support: a message of political support\n",
    "    * message:confidence: a measure of confidence in the message judgment; a float between 0.5 and 1\n",
    "    * orig__golden: always empty; presumably whether some portion of the message was in the gold standard\n",
    "    * audience_gold: always empty; presumably whether the audience response was in the gold standard\n",
    "    * bias_gold: always empty; presumably whether the bias response was in the gold standard\n",
    "    * bioid: a unique id for the politician\n",
    "    * embed: HTML code to embed this message\n",
    "    * id: unique id for the message WITHIN whichever social media site it was pulled from\n",
    "    * label: a string of the form \"From: firstname lastname (position from state)\"\n",
    "    * message_gold: always blank; presumably whether the message response was in the gold standard\n",
    "    * source: where the message was posted; one of \"facebook\" or \"twitter\"\n",
    "    * text: the text of the message\n",
    "    \n",
    "#### Goal\n",
    "\n",
    "Seeking to predict relationships between certain words and certain message types as determined by qualified human assessors. To do so, we will apply both a Naive Bayes (NB) Classifier and a Support Vector Machine (SVM).  \n",
    "\n",
    "- <b>Hypothesis \\#1</b>: Our SVM classifier will be a better predictor than our NB classifier.\n",
    "- <b>Hypothesis \\#2</b>: Certain words will be highly correlated with certain messages. For instance, we anticipate the following text/message pairs to be highly correlated:\n",
    "    * Obama > attack\n",
    "    * veterans > support\n",
    "    * proud > support\n",
    "    * bill > policy\n",
    "    * ICYMI > media\n",
    "\n",
    "#### Data provenance and trustworthiness considerations\n",
    "\n",
    "This dataset contains 5000 entries of tweets or Facebook posts by members of Congress, that are labelled by \"contributors\". Contributors from Crowdflower (https://www.crowdflower.com/data-for-everyone-full-library/#!/) go through each post and classify its contents on the basis of the audience, bias, and message components listed in the metadata. It is an interesting dataset because it contains confidence measures, but is also subject to persuasion by the contributors themselves, pointing to a central problem in trusting human labeled datasets. We believe that this dataset will largely conform with the average person's intuitions about the labelling of tweets according to a binary statement of bias, or a categorical attribution of message type. \n",
    "\n",
    "#### Data cleaning\n",
    "\n",
    "For the purposes of our scope, many of the columns listed in the metadata are superfluous. We will be using only four columns: Message, Bias, Label, and Text. To be fed into our classifiers, text will be tokenized into a numeric representation of the text, which we can use to predict a certain message type as one of: \n",
    "* attack\n",
    "* constituency\n",
    "* information\n",
    "* media\n",
    "* mobilization \n",
    "* other \n",
    "* personal \n",
    "* policy \n",
    "* support\n",
    "       \n"
   ]
  },
  {
   "cell_type": "code",
   "execution_count": 1,
   "metadata": {},
   "outputs": [],
   "source": [
    "%matplotlib inline\n",
    "import numpy as np\n",
    "import scipy as sp\n",
    "import scipy.stats as stats\n",
    "import pandas as pd\n",
    "import matplotlib.pyplot as plt\n",
    "import seaborn as sns; sns.set()\n",
    "from collections import Counter\n",
    "from textblob import TextBlob\n",
    "from textblob.classifiers import NaiveBayesClassifier\n",
    "from textblob.classifiers import DecisionTreeClassifier"
   ]
  },
  {
   "cell_type": "code",
   "execution_count": 2,
   "metadata": {},
   "outputs": [],
   "source": [
    "import scipy.stats\n",
    "import sklearn.linear_model\n",
    "import sklearn.discriminant_analysis\n",
    "import sklearn.preprocessing\n",
    "import sklearn.model_selection\n",
    "import sklearn.neighbors\n",
    "from sklearn.naive_bayes import MultinomialNB\n",
    "from sklearn.linear_model import SGDClassifier\n",
    "from sklearn.feature_extraction.text import CountVectorizer\n",
    "from sklearn.feature_extraction.text import TfidfTransformer\n",
    "from sklearn import metrics\n",
    "from sklearn.pipeline import Pipeline\n"
   ]
  },
  {
   "cell_type": "code",
   "execution_count": 3,
   "metadata": {},
   "outputs": [],
   "source": [
    "twt = pd.read_csv('political_statements_raw.csv', encoding='utf8')"
   ]
  },
  {
   "cell_type": "code",
   "execution_count": 4,
   "metadata": {},
   "outputs": [
    {
     "data": {
      "text/html": [
       "<div>\n",
       "<style scoped>\n",
       "    .dataframe tbody tr th:only-of-type {\n",
       "        vertical-align: middle;\n",
       "    }\n",
       "\n",
       "    .dataframe tbody tr th {\n",
       "        vertical-align: top;\n",
       "    }\n",
       "\n",
       "    .dataframe thead th {\n",
       "        text-align: right;\n",
       "    }\n",
       "</style>\n",
       "<table border=\"1\" class=\"dataframe\">\n",
       "  <thead>\n",
       "    <tr style=\"text-align: right;\">\n",
       "      <th></th>\n",
       "      <th>bias</th>\n",
       "      <th>message</th>\n",
       "      <th>label</th>\n",
       "      <th>text</th>\n",
       "      <th>wordvec</th>\n",
       "    </tr>\n",
       "  </thead>\n",
       "  <tbody>\n",
       "    <tr>\n",
       "      <th>0</th>\n",
       "      <td>partisan</td>\n",
       "      <td>policy</td>\n",
       "      <td>From: C.A. Dutch Ruppersberger (Representative...</td>\n",
       "      <td>.@DeltaDiva3 One idea is to allow students to ...</td>\n",
       "      <td>[.@DeltaDiva3, One, idea, is, to, allow, stude...</td>\n",
       "    </tr>\n",
       "    <tr>\n",
       "      <th>1</th>\n",
       "      <td>neutral</td>\n",
       "      <td>media</td>\n",
       "      <td>From: Jeb Hensarling (Representative from Texas)</td>\n",
       "      <td>Joining the @MarkDavis show on @660KSKY this m...</td>\n",
       "      <td>[Joining, the, @MarkDavis, show, on, @660KSKY,...</td>\n",
       "    </tr>\n",
       "    <tr>\n",
       "      <th>2</th>\n",
       "      <td>neutral</td>\n",
       "      <td>information</td>\n",
       "      <td>From: Cory Booker (Senator from New Jersey)</td>\n",
       "      <td>RT @HeraldNews See photos from the ‰Û÷Run With...</td>\n",
       "      <td>[RT, @HeraldNews, See, photos, from, the, ‰Û÷R...</td>\n",
       "    </tr>\n",
       "    <tr>\n",
       "      <th>3</th>\n",
       "      <td>neutral</td>\n",
       "      <td>support</td>\n",
       "      <td>From: John McCain (Senator from Arizona)</td>\n",
       "      <td>Headed to #Scottsdale for event honoring Marsh...</td>\n",
       "      <td>[Headed, to, #Scottsdale, for, event, honoring...</td>\n",
       "    </tr>\n",
       "    <tr>\n",
       "      <th>4</th>\n",
       "      <td>neutral</td>\n",
       "      <td>information</td>\n",
       "      <td>From: JosÌ© Serrano (Representative from New Y...</td>\n",
       "      <td>Today at 10:30 ribbon cutting ceremony at @sou...</td>\n",
       "      <td>[Today, at, 10:30, ribbon, cutting, ceremony, ...</td>\n",
       "    </tr>\n",
       "  </tbody>\n",
       "</table>\n",
       "</div>"
      ],
      "text/plain": [
       "       bias      message                                              label  \\\n",
       "0  partisan       policy  From: C.A. Dutch Ruppersberger (Representative...   \n",
       "1   neutral        media   From: Jeb Hensarling (Representative from Texas)   \n",
       "2   neutral  information        From: Cory Booker (Senator from New Jersey)   \n",
       "3   neutral      support           From: John McCain (Senator from Arizona)   \n",
       "4   neutral  information  From: JosÌ© Serrano (Representative from New Y...   \n",
       "\n",
       "                                                text  \\\n",
       "0  .@DeltaDiva3 One idea is to allow students to ...   \n",
       "1  Joining the @MarkDavis show on @660KSKY this m...   \n",
       "2  RT @HeraldNews See photos from the ‰Û÷Run With...   \n",
       "3  Headed to #Scottsdale for event honoring Marsh...   \n",
       "4  Today at 10:30 ribbon cutting ceremony at @sou...   \n",
       "\n",
       "                                             wordvec  \n",
       "0  [.@DeltaDiva3, One, idea, is, to, allow, stude...  \n",
       "1  [Joining, the, @MarkDavis, show, on, @660KSKY,...  \n",
       "2  [RT, @HeraldNews, See, photos, from, the, ‰Û÷R...  \n",
       "3  [Headed, to, #Scottsdale, for, event, honoring...  \n",
       "4  [Today, at, 10:30, ribbon, cutting, ceremony, ...  "
      ]
     },
     "execution_count": 4,
     "metadata": {},
     "output_type": "execute_result"
    }
   ],
   "source": [
    "# Removing columns irrelevant to the current analysis\n",
    "tdf = twt.drop(['_unit_id', '_golden', '_unit_state', '_trusted_judgments', '_last_judgment_at', 'audience', \\\n",
    "                'audience:confidence', 'bias:confidence', 'message:confidence', 'orig__golden', 'audience_gold', \\\n",
    "               'bias_gold', 'bioid', 'embed', 'id', 'message_gold', 'source'], axis=1)\n",
    "\n",
    "# Creating a new column, wordvec, containing a vector of all words in the text field\n",
    "tdf['wordvec'] = [i for i in tdf.text.str.split(\" \")]\n",
    "\n",
    "# Converting the bias and message fields to categorical\n",
    "tdf.bias = pd.Categorical(tdf.bias)\n",
    "tdf.message = pd.Categorical(tdf.message)\n",
    "\n",
    "# Taking an initial look at our dataframe\n",
    "tdf.head()"
   ]
  },
  {
   "cell_type": "code",
   "execution_count": 5,
   "metadata": {},
   "outputs": [
    {
     "name": "stdout",
     "output_type": "stream",
     "text": [
      "150 most common words:\n",
      " [('the', 6979), ('to', 5844), ('and', 3604), ('of', 3360), ('in', 2712), ('a', 2384), ('', 2250), ('for', 2044), ('on', 1657), ('I', 1407), ('is', 1356), ('with', 1098), ('that', 1096), ('our', 1061), ('at', 979), ('this', 920), ('my', 740), ('be', 707), ('will', 689), ('are', 669), ('The', 660), ('you', 659), ('from', 650), ('by', 604), ('have', 569), ('about', 548), ('we', 531), ('their', 508), ('as', 452), ('was', 446), ('who', 428), ('it', 411), ('&amp;', 409), ('more', 408), ('House', 397), ('has', 379), ('an', 362), ('can', 354), ('all', 335), ('your', 334), ('not', 317), ('This', 296), ('his', 293), ('today', 291), ('We', 274), ('out', 253), ('they', 249), ('-', 247), ('or', 238), ('great', 229)]\n",
      "\n",
      "\n",
      "\n",
      "50 of the least common words:\n",
      " [('\"Public', 1), ('Servants', 1), ('Dinner.\"', 1), ('Parenting', 1), ('Galveston', 1), ('‰ÛÏEvery', 1), ('child,', 1), ('aborted,', 1), ('Lord,', 1), ('birth,', 1), ('born,', 1), ('rejection', 1), ('world.‰Û\\x9d-', 1), ('interesting.', 1), ('Index', 1), ('reception,', 1), ('beyond.', 1), ('hearty', 1), ('applauds', 1), ('ranger', 1), ('memorial.', 1), ('terror.', 1), ('Brenda', 1), ('commits', 1), ('Organizations', 1), ('(VSO).', 1), ('14?', 1), ('slavery.', 1), ('420', 1), ('95%,', 1), ('Include:', 1), ('*Provide', 1), ('*Ability', 1), ('apples', 1), ('*Independent,', 1), ('*Reduces', 1), ('*Increases', 1), ('last.', 1), ('River.', 1), ('Hemmer', 1), ('10:25', 1), ('Monica', 1), ('filmed', 1), ('Ensuring', 1), ('https://www.youtube.com/watch?v=2jE7kzv5hzc', 1), ('exceeds', 1), ('dependents', 1), ('in-state', 1), ('Post-9/11GI', 1), ('items', 1)]\n"
     ]
    }
   ],
   "source": [
    "# What are all of the unique words in wordvec?\n",
    "allwords = Counter()\n",
    "tdf.wordvec.apply(allwords.update)\n",
    "print('150 most common words:\\n', allwords.most_common(50))\n",
    "print('\\n\\n')\n",
    "print('50 of the least common words:\\n', allwords.most_common()[-250:-200])"
   ]
  },
  {
   "cell_type": "markdown",
   "metadata": {},
   "source": [
    "It appears that there are some very clear outliers in this data, as you would suspect. The grammatical connective words ('the', 'to', 'and', etc.) are extremely common. Similarly, there are some outright unique words, largely due to an one of an encoding issue, hyperlink, etc. We intend to monitor this skew in the word frequency data for possible correction in the future. \n",
    "\n",
    "Further quantitative analysis isn't possible given the nature of our data. Because it is a set of discrete features (words in our tweets) attempting to classify a set of categorical resuts (message types), there is not a coherent distribution function that maps to our data. Similarly, correlation coefficients and r-squared values are inappropriate for describing our data. Rather, a frequency analysis (below) and an identification of the model's informative featureset (analogous to correlation coefficients) is more appropriate. "
   ]
  },
  {
   "cell_type": "markdown",
   "metadata": {},
   "source": [
    "#### Testing our Correlation Hypotheses"
   ]
  },
  {
   "cell_type": "code",
   "execution_count": 6,
   "metadata": {},
   "outputs": [
    {
     "data": {
      "image/png": "[encoded data removed]",
      "text/plain": [
       "<Figure size 432x288 with 1 Axes>"
      ]
     },
     "metadata": {},
     "output_type": "display_data"
    }
   ],
   "source": [
    "x = tdf.message.unique()\n",
    "y = tdf.message.value_counts()\n",
    "plt.bar(x, y);\n",
    "plt.xticks(rotation=45);\n",
    "plt.ylabel('Frequency');"
   ]
  },
  {
   "cell_type": "markdown",
   "metadata": {},
   "source": [
    "This plot shows that we may have some problem due the heavy skew towards a few message types. Our hypotheses rely somewhat on an assumption of uniformity in the occurance of the different message types across our dataset. Due to this skew, our predicted messages for our selected words may be unlikely or may have a bias towards the high frequency categories. "
   ]
  },
  {
   "cell_type": "code",
   "execution_count": 7,
   "metadata": {},
   "outputs": [
    {
     "name": "stdout",
     "output_type": "stream",
     "text": [
      "All messages:\n",
      " count       5000\n",
      "unique         9\n",
      "top       policy\n",
      "freq        1411\n",
      "Name: message, dtype: object\n",
      "\n",
      "All biases:\n",
      " count        5000\n",
      "unique          2\n",
      "top       neutral\n",
      "freq         3689\n",
      "Name: bias, dtype: object\n",
      "\n",
      "For tweets containing the word 'Obama':\n",
      " count        405\n",
      "unique         9\n",
      "top       policy\n",
      "freq         185\n",
      "Name: message, dtype: object\n",
      "\n",
      "For tweets containing the word 'veterans':\n",
      " count        118\n",
      "unique         9\n",
      "top       policy\n",
      "freq          37\n",
      "Name: message, dtype: object\n",
      "\n",
      "For tweets containing the word 'proud':\n",
      " count          112\n",
      "unique           9\n",
      "top       personal\n",
      "freq            43\n",
      "Name: message, dtype: object\n",
      "\n",
      "For tweets containing the word 'bill':\n",
      " count        320\n",
      "unique         9\n",
      "top       policy\n",
      "freq         170\n",
      "Name: message, dtype: object\n",
      "\n",
      "For tweets containing the word 'ICYMI':\n",
      " count         71\n",
      "unique         6\n",
      "top       policy\n",
      "freq          23\n",
      "Name: message, dtype: object\n"
     ]
    }
   ],
   "source": [
    "print(\"All messages:\\n\",tdf.message.describe())\n",
    "print(\"\\nAll biases:\\n\",tdf.bias.describe())\n",
    "\n",
    "\n",
    "print(\"\\nFor tweets containing the word 'Obama':\\n\",tdf.message[tdf.text.str.contains(\"Obama\")].describe())\n",
    "print(\"\\nFor tweets containing the word 'veterans':\\n\",tdf.message[tdf.text.str.contains(\"veterans\")].describe())\n",
    "print(\"\\nFor tweets containing the word 'proud':\\n\",tdf.message[tdf.text.str.contains(\"proud\")].describe())\n",
    "print(\"\\nFor tweets containing the word 'bill':\\n\",tdf.message[tdf.text.str.contains(\"bill\")].describe())\n",
    "print(\"\\nFor tweets containing the word 'ICYMI':\\n\",tdf.message[tdf.text.str.contains(\"ICYMI\")].describe())"
   ]
  },
  {
   "cell_type": "markdown",
   "metadata": {},
   "source": [
    "These results show that our hypotheses are largely incorrect. Concerning our example word, 'bill', our hypothesis was correct, but it appears that it may have been correct for the wrong reason. The most frequent message type, \"policy\", occurs much more frequently than we assumed in our hypotheses, rendering Hypothesis \\#2 incorrect.\n",
    "\n",
    "Furthermore, for any prediction about the relationship between certains words and their message types, those predictions are more likely to be accurate if they predict the message as policy, media, or information. This type of data skew is something that machine learning models are susceptible to replicating in making the laziest prediction. We will have to keep an eye on that as we apply our models. "
   ]
  },
  {
   "cell_type": "markdown",
   "metadata": {},
   "source": [
    "#### Transforming the Text and Splitting the Data\n",
    "\n",
    "In order for our classifiers to process the string data of our textyual fields, they need to be tokenized to numerical vectors. This process is different for our target and our data. For our target, because it is a categorical variable, we need to encode those categories into integers using a Label Encoder. For our data, because it is a set of discrete strings, we need to tokenize them on the basis of the frequency of their occurance in the corpus of text. \n",
    "\n",
    "After transforming our target and data, we need to split our training and testing data. We will use a standard test size of 33% of the dataset across our models, as this value seems to be semi-optimal for increasing our model's accuracy. With smaller test sizes, you may get higher point-accuracies for certain runs, purely due to coincidence."
   ]
  },
  {
   "cell_type": "code",
   "execution_count": 8,
   "metadata": {},
   "outputs": [],
   "source": [
    "# Defining our label encoder\n",
    "le = sklearn.preprocessing.LabelEncoder()"
   ]
  },
  {
   "cell_type": "code",
   "execution_count": 9,
   "metadata": {},
   "outputs": [
    {
     "name": "stdout",
     "output_type": "stream",
     "text": [
      "Our target categories are:  [0 1 2 3 4 5 6 7 8]\n",
      "which correspond to the following message types:  ['attack' 'constituency' 'information' 'media' 'mobilization' 'other'\n",
      " 'personal' 'policy' 'support']\n"
     ]
    }
   ],
   "source": [
    "import warnings; warnings.simplefilter('ignore')\n",
    "# Our data is the text of the tweet, and the target is the assigned message\n",
    "X, y = tdf.text, tdf.message\n",
    "le.fit(y)\n",
    "y = le.transform(y)\n",
    "\n",
    "# Tokenizing our sentences in order to pass them in as numerical values to our classifier\n",
    "count_vect = CountVectorizer()\n",
    "X_counts = count_vect.fit_transform(X)\n",
    "tfidf_transformer = TfidfTransformer()\n",
    "X_tfidf = tfidf_transformer.fit_transform(X_counts)\n",
    "X = X_tfidf\n",
    "\n",
    "# Splitting our data into training and testing sets \n",
    "trainX, testX, trainy, testy = sklearn.model_selection.train_test_split(X, y, test_size=0.33)\n",
    "\n",
    "# Label encoding our target message\n",
    "print(\"Our target categories are: \",np.unique(y))\n",
    "print(\"which correspond to the following message types: \",np.unique(le.inverse_transform(y)))\n"
   ]
  },
  {
   "cell_type": "markdown",
   "metadata": {},
   "source": [
    "#### Multinomial Naive Bayes Classification\n",
    "\n",
    "Multinomial Naive Bayes is the first step in working with text data. It is a supervised learning technique that uses Bayes Theorem with the assumption of independence between all of the features. We are using it here to classify certain tweets as a certain message type. We do the standard fit/predict steps to obtain our model and predictor. "
   ]
  },
  {
   "cell_type": "code",
   "execution_count": 10,
   "metadata": {},
   "outputs": [],
   "source": [
    "# Initializing our model\n",
    "mnnb = MultinomialNB()\n",
    "# Fitting our NB classifier\n",
    "classifier = mnnb.fit(trainX, trainy)\n",
    "# Creating a predictor for our test tweets\n",
    "predictor = classifier.predict(testX)"
   ]
  },
  {
   "cell_type": "code",
   "execution_count": 11,
   "metadata": {},
   "outputs": [
    {
     "name": "stdout",
     "output_type": "stream",
     "text": [
      "Classification report for Multinomial NB classifier:\n",
      "\n",
      "               precision    recall  f1-score   support\n",
      "\n",
      "      policy       0.00      0.00      0.00        54\n",
      "       media       0.00      0.00      0.00        66\n",
      " information       0.00      0.00      0.00       217\n",
      "     support       0.00      0.00      0.00        78\n",
      " information       0.00      0.00      0.00        38\n",
      " information       0.00      0.00      0.00        39\n",
      "     support       0.52      0.42      0.46       400\n",
      "      policy       0.34      0.97      0.50       462\n",
      " information       0.14      0.00      0.01       296\n",
      "\n",
      " avg / total       0.25      0.37      0.25      1650\n",
      "\n",
      "Confusion matrix for Multinomial NB classifier:\n",
      "\n",
      " [[  0   0   0   0   0   0   0  54   0]\n",
      " [  0   0   0   0   0   0  21  45   0]\n",
      " [  0   0   0   0   0   0  35 181   1]\n",
      " [  0   0   0   0   0   0   9  68   1]\n",
      " [  0   0   0   0   0   0   6  32   0]\n",
      " [  0   0   0   0   0   0   6  33   0]\n",
      " [  0   0   0   0   0   0 169 229   2]\n",
      " [  0   0   0   0   0   0  13 447   2]\n",
      " [  0   0   0   0   0   0  68 227   1]]\n"
     ]
    }
   ],
   "source": [
    "warnings.simplefilter('ignore')\n",
    "print(\"Classification report for Multinomial NB classifier:\\n\\n\",metrics.classification_report(testy, predictor, target_names=le.inverse_transform(y)))\n",
    "print(\"Confusion matrix for Multinomial NB classifier:\\n\\n\",metrics.confusion_matrix(testy, predictor))"
   ]
  },
  {
   "cell_type": "code",
   "execution_count": 12,
   "metadata": {},
   "outputs": [
    {
     "name": "stdout",
     "output_type": "stream",
     "text": [
      "Overall accuracy of our Multinomial NB predictor is:  0.37393939393939396\n"
     ]
    }
   ],
   "source": [
    "print(\"Overall accuracy of our Multinomial NB predictor is: \",np.mean(predictor == testy))"
   ]
  },
  {
   "cell_type": "markdown",
   "metadata": {},
   "source": [
    "Overall, this appears to be a fairly successful model. While the classification report and the confusion matrix do show some serious overfitting to the overrepresented message types, we still achieve a fit that's better than pure chance, as discussed below. While the model is successful, it's confusion matrix shows serious deficiencies in classifying the majority of different messages types, as it takes the safe and lazy approach."
   ]
  },
  {
   "cell_type": "markdown",
   "metadata": {},
   "source": [
    "#### Support Vector Machine Classification"
   ]
  },
  {
   "cell_type": "code",
   "execution_count": 13,
   "metadata": {},
   "outputs": [],
   "source": [
    "# Creating a pipeline\n",
    "X, y = tdf.text, tdf.message\n",
    "trainX, testX, trainy, testy = sklearn.model_selection.train_test_split(X, y, test_size=0.33)\n",
    "tweet_clf = Pipeline([('vect', CountVectorizer()),\n",
    "                     ('tfidf', TfidfTransformer()),\n",
    "                     ('clf', SGDClassifier(loss='squared_loss', penalty='elasticnet',\n",
    "                                          alpha=1e-3, random_state=42,\n",
    "                                          max_iter=10, tol=None, \n",
    "                                          class_weight='balanced')),\n",
    "                     ]);\n",
    "\n",
    "# Fitting our classifier\n",
    "tweet_clf.fit(trainX, trainy);"
   ]
  },
  {
   "cell_type": "code",
   "execution_count": 14,
   "metadata": {},
   "outputs": [
    {
     "name": "stdout",
     "output_type": "stream",
     "text": [
      "Overall accuracy of our Mulinomial NB predictor is:  0.3212121212121212\n"
     ]
    }
   ],
   "source": [
    "# Creating a predictor for our test tweets\n",
    "predicted = tweet_clf.predict(testX)\n",
    "print(\"Overall accuracy of our Mulinomial NB predictor is: \",np.mean(predicted == testy))"
   ]
  },
  {
   "cell_type": "code",
   "execution_count": 15,
   "metadata": {},
   "outputs": [
    {
     "name": "stdout",
     "output_type": "stream",
     "text": [
      "Classification report for SVM classifier:\n",
      "\n",
      "               precision    recall  f1-score   support\n",
      "\n",
      "      attack       0.13      0.33      0.19        58\n",
      "constituency       0.08      0.19      0.11        52\n",
      " information       0.23      0.15      0.19       214\n",
      "       media       0.28      0.59      0.38        90\n",
      "mobilization       0.12      0.35      0.18        46\n",
      "       other       0.10      0.19      0.14        36\n",
      "    personal       0.50      0.39      0.44       404\n",
      "      policy       0.47      0.48      0.48       455\n",
      "     support       0.20      0.06      0.09       295\n",
      "\n",
      " avg / total       0.35      0.32      0.32      1650\n",
      "\n",
      "Confusion matrix for SVM classifier:\n",
      "\n",
      " [[ 19   0   4   2   6   3   0  22   2]\n",
      " [  3  10   6   5   1   4  11   6   6]\n",
      " [ 14  25  33  23  14   7  24  63  11]\n",
      " [  1   9   7  53   2   1   6   8   3]\n",
      " [  1   4   4   3  16   3   2  11   2]\n",
      " [  5   3   3   4   3   7   8   1   2]\n",
      " [ 15  41  34  36  26  20 156  54  22]\n",
      " [ 69  16  29  31  35   6  32 219  18]\n",
      " [ 15  16  22  32  25  16  72  80  17]]\n"
     ]
    }
   ],
   "source": [
    "warnings.simplefilter('ignore')\n",
    "print(\"Classification report for SVM classifier:\\n\\n\",metrics.classification_report(testy, predicted))\n",
    "print(\"Confusion matrix for SVM classifier:\\n\\n\",metrics.confusion_matrix(testy, predicted))"
   ]
  },
  {
   "cell_type": "markdown",
   "metadata": {},
   "source": [
    "#### Analysis of Models and Assessing Hypothesis \\#1"
   ]
  },
  {
   "cell_type": "code",
   "execution_count": 16,
   "metadata": {},
   "outputs": [
    {
     "name": "stdout",
     "output_type": "stream",
     "text": [
      "For 25 runs, our average accuracy is: 0.3185454545454546\n"
     ]
    }
   ],
   "source": [
    "runs = 25\n",
    "accuracies = np.empty(runs)\n",
    "for i in range(len(accuracies)):\n",
    "    trainX, testX, trainy, testy = sklearn.model_selection.train_test_split(X, y, test_size=0.33)\n",
    "    tweet_clf.fit(trainX, trainy);\n",
    "    pred = tweet_clf.predict(testX)\n",
    "    accuracies[i] = np.mean(pred == testy)\n",
    "    \n",
    "print('For {} runs, our average accuracy is: {}'.format(runs, np.mean(accuracies)))\n"
   ]
  },
  {
   "cell_type": "markdown",
   "metadata": {},
   "source": [
    "For our model to be better than chance, we have to achieve over 0.11 probability of making a correct prediction. If we chose a message at random, due to the skew of our data, the absolute *best* we could do is guess correctly 1 out of 9 times. \n",
    "\n",
    "For the afore-run Multinomial NB classifier, we consistently achieved between 0.20 and 0.40 prediction accuracy. This is certainly better than chance, though fairly inconsistent. One glaring problem with this model is its tendency to predict that ALL tweets are of two message types exclusively. That is the problem of laziness discussed above. Because the majority of tweets fall into just a few message categories, the classifer over-predicts for those categories because it is *more likely* to be correct.\n",
    "\n",
    "Given that our average accuracy over many runs for the SVM classifier is ~ 0.35, our model is performing pretty well. Given a larger data set and a more diverse set of labelled examples (where each message type has >5000 samples), our SVM model should be able to continue to improve. \n",
    "\n",
    "While our accuracy is not strictly greater than the accuracy achieved with Multinomial NB, we still conclude that Hypothesis \\#1 is correct and that the SVM is a better predictor than Multinomial NB. The reason for this lies in the confusion matrix. The SVM very clearly considers each message type as a possibility and is much less \"lazy\", in that it doesn't force each message to two or three likely categories of message. "
   ]
  },
  {
   "cell_type": "code",
   "execution_count": 17,
   "metadata": {},
   "outputs": [
    {
     "name": "stdout",
     "output_type": "stream",
     "text": [
      "The 20 most informative words (features) our model uses for each message type:\n",
      "\n",
      "\n",
      "attack: loan result his worst via pres interesting hand left or hours why uncertainty irs republicans president losing he obamacare obama\n",
      "\n",
      "\n",
      "constituency: lunch winchester 05 hall owners employees touring transit trade glad came attend office 2015 owned nc cmt_82 indiana town thinking\n",
      "\n",
      "\n",
      "information: employers had mlk annual caucus news www month korean voted in from hearing here 21 events academy attending find icymi\n",
      "\n",
      "\n",
      "media: foxnews here catch joining watch join speaking ukraine et ll at morning live talk interview cspan on listen show tune\n",
      "\n",
      "\n",
      "mobilization: trenton compromise 7gzb8ltbw7 favorite hear don nationaldayofprayer wilmington tnfarmbureau cancer facebook petition violence domestic please free percent follow kck share\n",
      "\n",
      "\n",
      "other: ice entries asawj2gynx ramallah olson ilntqltmx0 ca49 partying passport btw timscotthr obamascare biased newsletter protest gl goo kacoppola que sinema\n",
      "\n",
      "\n",
      "personal: game thank her enjoyed your weekend park enjoy prayers and remember friend my art honored congratulations thanks congrats day happy\n",
      "\n",
      "\n",
      "policy: why reform pay the defense under income nsa more need act it committee are health obamacare government not that bill\n",
      "\n",
      "\n",
      "support: strengthen fighting washington proud director life agree house bring general out reform amp gun help thanks see for thank support\n",
      "\n"
     ]
    }
   ],
   "source": [
    "def informative_features(vect, clf, class_labels):\n",
    "    feature_names = vect.get_feature_names()\n",
    "    for i, class_label in enumerate(class_labels):\n",
    "        top10 = np.argsort(clf.coef_[i])[-20:]\n",
    "        print(\"\\n%s: %s\\n\" % (class_label,\n",
    "              \" \".join(feature_names[j] for j in top10)))\n",
    "\n",
    "print(\"The 20 most informative words (features) our model uses for each message type:\\n\")\n",
    "informative_features(tweet_clf.get_params()['vect'], tweet_clf.get_params()['clf'], np.unique(y))"
   ]
  },
  {
   "cell_type": "markdown",
   "metadata": {},
   "source": [
    "Above, you can see the most informative words that our model used to predict the message type for a given tweet. Glancing over this list, which is not static but rather changes each train/test split, many of these features make intuitive sense. For instance, in 'support' you see 'courage', in 'attack' you see 'askdems' and 'obamacare', in 'media' you see 'townhall', 'live', 'watch', 'interview', and 'tune'. You also see some clear examples of overfitting. If there is a single tweet with a unique word mapping to one message type, it is likely that the model will pick up on that and place heavy weight on that unique feature. Our features are certainly not entirely accurate, for instance 'protest' being an informative feature for 'other' and not for 'mobilization'. We have strong intuitions about certain words, like 'protest', that in turn map strongly to the message type we would designate. Therefore, we have to draw into question the decisions of our qualified human data-labellers, or the accuracy of our model. \n",
    "\n",
    "Outside of these concerns and those above, it appears that our model does about three times better than pure chance, and contains some fairly intuitive features, as we will see below."
   ]
  },
  {
   "cell_type": "markdown",
   "metadata": {},
   "source": [
    "#### Unseen Tweets and Further Possibilities\n",
    "\n",
    "Below, we hand-sample two tweets from four Colorado Congressional representatives to test our model on data not included in our dataset. A possible extension of this project is to hook up to the Twitter API and consume new tweets from each representative contained in our dataset to classify their live tweets. This API-hook is outside of the scope of this project, but we can still test our model on unclassified tweets. "
   ]
  },
  {
   "cell_type": "code",
   "execution_count": 18,
   "metadata": {},
   "outputs": [
    {
     "name": "stdout",
     "output_type": "stream",
     "text": [
      "\n",
      "Sen. Cory Gardner tweeted: \n",
      "ICYMI: Be sure to watch this @FOX21News clip on my recent trip to Afghanistan to visit our Colorado-based troops. I'm incredibly proud of the work these men and women do everyday.\n",
      "\n",
      " Predicted message type: personal\n",
      "----------------\n",
      "\n",
      "Sen. Cory Gardner tweeted: \n",
      "My job is to represent Colorado in the United States Senate and that means working across party lines to get things done for the state. I'm proud to be ranked as the 8th most bipartisan Senator. More info here:\n",
      "\n",
      " Predicted message type: policy\n",
      "----------------\n",
      "\n",
      "Rep. Ken Buck tweeted: \n",
      "Having only a few hours to read and digest huge bills is an absurd way to run a government. You’d be upset if your teacher assigned War and Peace in the morning and tested you on it later that afternoon. #READIT\n",
      "\n",
      " Predicted message type: policy\n",
      "----------------\n",
      "\n",
      "Rep. Ken Buck tweeted: \n",
      "Please keep in your prayers all of those impacted by the fires burning across our district right now and those who are working to combat these blazes.\n",
      "\n",
      " Predicted message type: personal\n",
      "----------------\n",
      "\n",
      "Sen. Michael Bennet tweeted: \n",
      "Ending TPS for Hondurans forces tens of thousands of law-abiding individuals—many of whom are parents to children who are U.S. citizens—back to a country challenged by violence, poverty, & limited resources. This misguided decision also undermines stability in the region.\n",
      "\n",
      " Predicted message type: policy\n",
      "----------------\n",
      "\n",
      "Sen. Michael Bennet tweeted: \n",
      "The Colorado teacher walkouts are part of a growing movement around the country. Read more on why it's so important that we listen to our teachers:\n",
      "\n",
      " Predicted message type: policy\n",
      "----------------\n",
      "\n",
      "Rep. Jared Polis tweeted: \n",
      "By electing Jared Polis as our next governor, we'll be doing more than breaking another barrier; we'll be sending a fearless, progressive leader to the governor's office.\n",
      "\n",
      " Predicted message type: media\n",
      "----------------\n",
      "\n",
      "Rep. Jared Polis tweeted: \n",
      "Climate change is real & the consequences are becoming a reality. If we want to preserve our CO way of life, and ensure our kids have clean air to breathe, we we can’t afford to wait! As #COGov, I will bring CO to 100% renewable energy by 2040 (or sooner!)\n",
      "\n",
      " Predicted message type: policy\n",
      "----------------\n"
     ]
    }
   ],
   "source": [
    "sample_tweets = [\"ICYMI: Be sure to watch this @FOX21News clip on my recent trip to Afghanistan to visit our Colorado-based troops. I'm incredibly proud of the work these men and women do everyday.\", \n",
    "                 \"My job is to represent Colorado in the United States Senate and that means working across party lines to get things done for the state. I'm proud to be ranked as the 8th most bipartisan Senator. More info here:\",\n",
    "                \"Having only a few hours to read and digest huge bills is an absurd way to run a government. You’d be upset if your teacher assigned War and Peace in the morning and tested you on it later that afternoon. #READIT\", \n",
    "                 \"Please keep in your prayers all of those impacted by the fires burning across our district right now and those who are working to combat these blazes.\",\n",
    "                \"Ending TPS for Hondurans forces tens of thousands of law-abiding individuals—many of whom are parents to children who are U.S. citizens—back to a country challenged by violence, poverty, & limited resources. This misguided decision also undermines stability in the region.\", \n",
    "                 \"The Colorado teacher walkouts are part of a growing movement around the country. Read more on why it's so important that we listen to our teachers:\",\n",
    "                \"By electing Jared Polis as our next governor, we'll be doing more than breaking another barrier; we'll be sending a fearless, progressive leader to the governor's office.\",\n",
    "                \"Climate change is real & the consequences are becoming a reality. If we want to preserve our CO way of life, and ensure our kids have clean air to breathe, we we can’t afford to wait! As #COGov, I will bring CO to 100% renewable energy by 2040 (or sooner!)\"]\n",
    "\n",
    "authors = [\"Sen. Cory Gardner\", \"Sen. Cory Gardner\", \"Rep. Ken Buck\", \"Rep. Ken Buck\", \"Sen. Michael Bennet\", \"Sen. Michael Bennet\", \"Rep. Jared Polis\", \"Rep. Jared Polis\"]\n",
    "pred = tweet_clf.predict(sample_tweets)\n",
    "\n",
    "for i in range(len(sample_tweets)):\n",
    "    print(\"\\n{} tweeted: \\n{}\\n\\n Predicted message type: {}\\n----------------\".format(authors[i], sample_tweets[i], pred[i]))"
   ]
  },
  {
   "cell_type": "markdown",
   "metadata": {},
   "source": [
    "Our classification of these 8 tweets seems fairly correct and matches our intuitions. It signals deep issues in the designation from our qualified human assessors: tweets are not easy to classify. Rarely is a tweet's message black and white, and it largely depends on the point of view of the person classifying the tweet. Our dataset does contain some confidence measurements, depending on whether a tweet was classified by more than one individual, however modifying our model on the basis of these confidence/bias measurements is out of scope of this project. At this time, we can appreciate that our model does a fairly good job of broadly classifying ambiguous tweets."
   ]
  }
 ],
 "metadata": {
  "kernelspec": {
   "display_name": "Python 3",
   "language": "python",
   "name": "python3"
  },
  "language_info": {
   "codemirror_mode": {
    "name": "ipython",
    "version": 3
   },
   "file_extension": ".py",
   "mimetype": "text/x-python",
   "name": "python",
   "nbconvert_exporter": "python",
   "pygments_lexer": "ipython3",
   "version": "3.6.5"
  }
 },
 "nbformat": 4,
 "nbformat_minor": 2
}
