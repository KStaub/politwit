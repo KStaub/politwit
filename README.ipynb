{
 "cells": [
  {
   "cell_type": "markdown",
   "metadata": {},
   "source": [
    "# PoliTwit\n",
    "\n",
    "## Examining political speech on social media\n",
    "\n",
    "#### Dataset\n",
    "\n",
    "* Origin: \n",
    "    * Crowdflower Data for Everyone dataset: https://www.crowdflower.com/data-for-everyone/\n",
    "    * https://www.kaggle.com/crowdflower/political-social-media-posts/data\n",
    "* Meta-data:\n",
    "    * _unit_id: a unique id for the message\n",
    "    * _golden: always FALSE; (presumably whether the message was in Crowdflower's gold standard)\n",
    "    * _unit_state: always \"finalized\"\n",
    "    * _trusted_judgments: the number of trusted human judgments that were entered for this message; an integer between 1 and 3\n",
    "    * _last_judgment_at: when the final judgment was collected\n",
    "    * audience: one of national or constituency\n",
    "    * audience:confidence: a measure of confidence in the audience judgment; a float between 0.5 and 1\n",
    "    * bias: one of neutral or partisan\n",
    "    * bias:confidence: a measure of confidence in the bias judgment; a float between 0.5 and 1\n",
    "    * message: the aim of the message. one of: \n",
    "        * attack: the message attacks another politician \n",
    "        * constituency: the message discusses the politician's constituency \n",
    "        * information: an informational message about news in government or the wider U.S. \n",
    "        * media: a message about interaction with the media \n",
    "        * mobilization: a message intended to mobilize supporters \n",
    "        * other: a catch-all category for messages that don't fit into the other \n",
    "        * personal: a personal message, usually expressing sympathy, support or condolences, or other personal opinions \n",
    "        * policy: a message about political policy \n",
    "        * support: a message of political support\n",
    "    * message:confidence: a measure of confidence in the message judgment; a float between 0.5 and 1\n",
    "    * orig__golden: always empty; presumably whether some portion of the message was in the gold standard\n",
    "    * audience_gold: always empty; presumably whether the audience response was in the gold standard\n",
    "    * bias_gold: always empty; presumably whether the bias response was in the gold standard\n",
    "    * bioid: a unique id for the politician\n",
    "    * embed: HTML code to embed this message\n",
    "    * id: unique id for the message WITHIN whichever social media site it was pulled from\n",
    "    * label: a string of the form \"From: firstname lastname (position from state)\"\n",
    "    * message_gold: always blank; presumably whether the message response was in the gold standard\n",
    "    * source: where the message was posted; one of \"facebook\" or \"twitter\"\n",
    "    * text: the text of the message\n",
    "    \n",
    "#### Goal\n",
    "\n",
    "Seeking to understand statistical relationships between certain words and certain message types as determined by qualified human assessors. \n",
    "\n",
    "#### Data provenance and trustworthiness considerations\n",
    "#### Data cleaning\n",
    "#### Data meanings and confidence usage in statistical look"
   ]
  },
  {
   "cell_type": "code",
   "execution_count": null,
   "metadata": {
    "collapsed": true
   },
   "outputs": [],
   "source": []
  }
 ],
 "metadata": {
  "kernelspec": {
   "display_name": "Python 3",
   "language": "python",
   "name": "python3"
  },
  "language_info": {
   "codemirror_mode": {
    "name": "ipython",
    "version": 3
   },
   "file_extension": ".py",
   "mimetype": "text/x-python",
   "name": "python",
   "nbconvert_exporter": "python",
   "pygments_lexer": "ipython3",
   "version": "3.6.1"
  }
 },
 "nbformat": 4,
 "nbformat_minor": 2
}
